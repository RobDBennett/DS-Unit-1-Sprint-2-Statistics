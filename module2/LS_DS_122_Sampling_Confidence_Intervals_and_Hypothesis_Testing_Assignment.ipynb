{
  "nbformat": 4,
  "nbformat_minor": 0,
  "metadata": {
    "colab": {
      "name": "LS_DS_122_Sampling_Confidence_Intervals_and_Hypothesis_Testing_Assignment.ipynb",
      "provenance": [],
      "collapsed_sections": [],
      "include_colab_link": true
    },
    "kernelspec": {
      "name": "python3",
      "display_name": "Python 3"
    }
  },
  "cells": [
    {
      "cell_type": "markdown",
      "metadata": {
        "id": "view-in-github",
        "colab_type": "text"
      },
      "source": [
        "<a href=\"https://colab.research.google.com/github/RobDBennett/DS-Unit-1-Sprint-2-Statistics/blob/master/module2/LS_DS_122_Sampling_Confidence_Intervals_and_Hypothesis_Testing_Assignment.ipynb\" target=\"_parent\"><img src=\"https://colab.research.google.com/assets/colab-badge.svg\" alt=\"Open In Colab\"/></a>"
      ]
    },
    {
      "cell_type": "markdown",
      "metadata": {
        "id": "11OzdxWTM7UR",
        "colab_type": "text"
      },
      "source": [
        "## Assignment - Build a confidence interval\n",
        "\n",
        "A confidence interval refers to a neighborhood around some point estimate, the size of which is determined by the desired p-value. For instance, we might say that 52% of Americans prefer tacos to burritos, with a 95% confidence interval of +/- 5%.\n",
        "\n",
        "52% (0.52) is the point estimate, and +/- 5% (the interval $[0.47, 0.57]$) is the confidence interval. \"95% confidence\" means a p-value $\\leq 1 - 0.95 = 0.05$.\n",
        "\n",
        "In this case, the confidence interval includes $0.5$ - which is the natural null hypothesis (that half of Americans prefer tacos and half burritos, thus there is no clear favorite). So in this case, we could use the confidence interval to report that we've failed to reject the null hypothesis.\n",
        "\n",
        "But providing the full analysis with a confidence interval, including a graphical representation of it, can be a helpful and powerful way to tell your story. Done well, it is also more intuitive to a layperson than simply saying \"fail to reject the null hypothesis\" - it shows that in fact the data does *not* give a single clear result (the point estimate) but a whole range of possibilities.\n",
        "\n",
        "How is a confidence interval built, and how should it be interpreted? It does *not* mean that 95% of the data lies in that interval - instead, the frequentist interpretation is \"if we were to repeat this experiment 100 times, we would expect the average result to lie in this interval ~95 times.\"\n",
        "\n",
        "For a 95% confidence interval and a normal(-ish) distribution, you can simply remember that +/-2 standard deviations contains 95% of the probability mass, and so the 95% confidence interval based on a given sample is centered at the mean (point estimate) and has a range of +/- 2 (or technically 1.96) standard deviations.\n",
        "\n",
        "Different distributions/assumptions (90% confidence, 99% confidence) will require different math, but the overall process and interpretation (with a frequentist approach) will be the same.\n",
        "\n",
        "Your assignment - using the data from the prior module ([congressional voting records](https://archive.ics.uci.edu/ml/datasets/Congressional+Voting+Records)):\n",
        "\n",
        "\n",
        "### Confidence Intervals:\n",
        "1. Generate and numerically represent a confidence interval\n",
        "2. Graphically (with a plot) represent the confidence interval\n",
        "3. Interpret the confidence interval - what does it tell you about the data and its distribution?\n",
        "\n",
        "### Chi-squared tests:\n",
        "4. Take a dataset that we have used in the past in class that has **categorical** variables. Pick two of those categorical variables and run a chi-squared tests on that data\n",
        "  - By hand using Numpy\n",
        "  - In a single line using Scipy\n"
      ]
    },
    {
      "cell_type": "code",
      "metadata": {
        "id": "Ckcr4A4FM7cs",
        "colab_type": "code",
        "colab": {
          "base_uri": "https://localhost:8080/",
          "height": 204
        },
        "outputId": "4433de82-5f7d-4fad-db22-4d684b1ba3c3"
      },
      "source": [
        "# TODO - your code!\n",
        "%matplotlib inline\n",
        "import numpy as np\n",
        "import pandas as pd\n",
        "from scipy import stats\n",
        "!wget https://archive.ics.uci.edu/ml/machine-learning-databases/voting-records/house-votes-84.data\n"
      ],
      "execution_count": 1,
      "outputs": [
        {
          "output_type": "stream",
          "text": [
            "--2020-05-12 19:00:39--  https://archive.ics.uci.edu/ml/machine-learning-databases/voting-records/house-votes-84.data\n",
            "Resolving archive.ics.uci.edu (archive.ics.uci.edu)... 128.195.10.252\n",
            "Connecting to archive.ics.uci.edu (archive.ics.uci.edu)|128.195.10.252|:443... connected.\n",
            "HTTP request sent, awaiting response... 200 OK\n",
            "Length: 18171 (18K) [application/x-httpd-php]\n",
            "Saving to: ‘house-votes-84.data’\n",
            "\n",
            "house-votes-84.data 100%[===================>]  17.75K  --.-KB/s    in 0.1s    \n",
            "\n",
            "2020-05-12 19:00:40 (135 KB/s) - ‘house-votes-84.data’ saved [18171/18171]\n",
            "\n"
          ],
          "name": "stdout"
        }
      ]
    },
    {
      "cell_type": "code",
      "metadata": {
        "id": "0X7MhkWuQo5F",
        "colab_type": "code",
        "colab": {}
      },
      "source": [
        "column_headers = ['party','handicapped-infants','water-project',\n",
        "                  'budget','physician-fee-freeze', 'el-salvador-aid',\n",
        "                  'religious-groups','anti-satellite-ban',\n",
        "                  'aid-to-contras','mx-missile','immigration',\n",
        "                  'synfuels', 'education', 'right-to-sue','crime','duty-free',\n",
        "                  'south-africa']\n",
        "df = pd.read_csv('house-votes-84.data', names=column_headers)\n",
        "df = df.replace({\"y\": 1, \"n\": 0, \"?\": np.NaN})\n"
      ],
      "execution_count": 0,
      "outputs": []
    },
    {
      "cell_type": "code",
      "metadata": {
        "id": "8-_2mrpVQ-7a",
        "colab_type": "code",
        "colab": {}
      },
      "source": [
        "def con_int(data, confidence=.95):\n",
        "  data = np.array(data)\n",
        "  mean = np.mean(data)\n",
        "  n = len(data)\n",
        "  s = np.std(data, ddof=1)\n",
        "  std_err = s / np.sqrt(n)\n",
        "  t = stats.t.ppf((1+confidence) / 2.0, n-1)\n",
        "  moe = t*std_err\n",
        "  lower_bound = mean - moe\n",
        "  upper_bound = mean + moe\n",
        "  return (lower_bound, mean, upper_bound) "
      ],
      "execution_count": 0,
      "outputs": []
    },
    {
      "cell_type": "code",
      "metadata": {
        "id": "RPYvVuUhS0xD",
        "colab_type": "code",
        "colab": {}
      },
      "source": [
        "test = df.drop(columns= ['handicapped-infants', 'water-project', 'budget',\n",
        "                         'physician-fee-freeze', 'el-salvador-aid', \n",
        "                         'religious-groups', 'anti-satellite-ban', \n",
        "                         'aid-to-contras', 'mx-missile', 'immigration', \n",
        "                         'synfuels', 'education', 'right-to-sue', 'crime', \n",
        "                         'duty-free'])\n",
        "test = test.dropna()\n"
      ],
      "execution_count": 0,
      "outputs": []
    },
    {
      "cell_type": "code",
      "metadata": {
        "id": "0_JHNqKxX4QA",
        "colab_type": "code",
        "colab": {}
      },
      "source": [
        "testr = test[test['party'] == 'republican']\n",
        "testd = test[test['party'] == 'democrat']"
      ],
      "execution_count": 0,
      "outputs": []
    },
    {
      "cell_type": "code",
      "metadata": {
        "id": "lvk5UvEzWWyC",
        "colab_type": "code",
        "colab": {
          "base_uri": "https://localhost:8080/",
          "height": 34
        },
        "outputId": "860f49e1-8dbb-4ec5-bc9d-d9df92d925ab"
      },
      "source": [
        "con_int(testr['south-africa'])"
      ],
      "execution_count": 31,
      "outputs": [
        {
          "output_type": "execute_result",
          "data": {
            "text/plain": [
              "(0.5796460416043707, 0.6575342465753424, 0.7354224515463141)"
            ]
          },
          "metadata": {
            "tags": []
          },
          "execution_count": 31
        }
      ]
    },
    {
      "cell_type": "code",
      "metadata": {
        "id": "0K3HqUD1YT1m",
        "colab_type": "code",
        "colab": {
          "base_uri": "https://localhost:8080/",
          "height": 530
        },
        "outputId": "24a517bf-8486-4287-ceb9-880d0c3c51b6"
      },
      "source": [
        "import matplotlib.pyplot as plt\n",
        "lower1, mean1, upper1 = con_int(testr['south-africa'].dropna())\n",
        "lower2, mean2, upper2 = con_int(testd['south-africa'].dropna())\n",
        "\n",
        "print(\"Confidence Interval 'South-Africa' bill, Republicans followed by Democrats\")\n",
        "testr.plot.density()\n",
        "plt.axvline(x=lower1, color='black')\n",
        "plt.axvline(x=mean1, color= 'red')\n",
        "plt.axvline(x=upper1, color='black')\n",
        "\n",
        "testd.plot.density()\n",
        "plt.axvline(x=lower2, color='black')\n",
        "plt.axvline(x=mean2, color='red')\n",
        "plt.axvline(x=upper2, color='black')\n",
        "plt.show()"
      ],
      "execution_count": 48,
      "outputs": [
        {
          "output_type": "stream",
          "text": [
            "Confidence Interval 'South-Africa' bill, Republicans followed by Democrats\n"
          ],
          "name": "stdout"
        },
        {
          "output_type": "display_data",
          "data": {
            "image/png": "[encoded data removed]",
            "text/plain": [
              "<Figure size 432x288 with 1 Axes>"
            ]
          },
          "metadata": {
            "tags": [],
            "needs_background": "light"
          }
        },
        {
          "output_type": "display_data",
          "data": {
            "image/png": "[encoded data removed]",
            "text/plain": [
              "<Figure size 432x288 with 1 Axes>"
            ]
          },
          "metadata": {
            "tags": [],
            "needs_background": "light"
          }
        }
      ]
    },
    {
      "cell_type": "code",
      "metadata": {
        "id": "aXoFFsjocPim",
        "colab_type": "code",
        "colab": {
          "base_uri": "https://localhost:8080/",
          "height": 282
        },
        "outputId": "d38b14a9-a023-450c-b81d-21c2e9d90d0a"
      },
      "source": [
        "low3, mean3, upp3 = con_int(test['south-africa'])\n",
        "test.plot.density()\n",
        "plt.axvline(x=low3, color='black')\n",
        "plt.axvline(x=mean3, color='red')\n",
        "plt.axvline(x=upp3, color='black')\n",
        "plt.show()\n",
        "print(\"Confidence Interval for Senate on South-Africa bill\")"
      ],
      "execution_count": 49,
      "outputs": [
        {
          "output_type": "display_data",
          "data": {
            "image/png": "[encoded data removed]",
            "text/plain": [
              "<Figure size 432x288 with 1 Axes>"
            ]
          },
          "metadata": {
            "tags": [],
            "needs_background": "light"
          }
        },
        {
          "output_type": "stream",
          "text": [
            "Confidence Interval for Senate on South-Africa bill\n"
          ],
          "name": "stdout"
        }
      ]
    },
    {
      "cell_type": "code",
      "metadata": {
        "id": "hgp-AZ_EdA2n",
        "colab_type": "code",
        "colab": {
          "base_uri": "https://localhost:8080/",
          "height": 170
        },
        "outputId": "36db67a5-ed74-4904-b59a-7bf5056966fd"
      },
      "source": [
        "print(test['south-africa'].value_counts())\n",
        "print(testr['south-africa'].value_counts())\n",
        "testd['south-africa'].value_counts()"
      ],
      "execution_count": 44,
      "outputs": [
        {
          "output_type": "stream",
          "text": [
            "1.0    269\n",
            "0.0     62\n",
            "Name: south-africa, dtype: int64\n",
            "1.0    96\n",
            "0.0    50\n",
            "Name: south-africa, dtype: int64\n"
          ],
          "name": "stdout"
        },
        {
          "output_type": "execute_result",
          "data": {
            "text/plain": [
              "1.0    173\n",
              "0.0     12\n",
              "Name: south-africa, dtype: int64"
            ]
          },
          "metadata": {
            "tags": []
          },
          "execution_count": 44
        }
      ]
    },
    {
      "cell_type": "code",
      "metadata": {
        "id": "zJpwdpLRa0LF",
        "colab_type": "code",
        "colab": {
          "base_uri": "https://localhost:8080/",
          "height": 265
        },
        "outputId": "afd72393-f709-4630-9215-5dadc1bf2ad1"
      },
      "source": [
        "moe1 = upper1 - mean1\n",
        "moe2 = upper2 - mean2\n",
        "moe3 = upp3 - mean3\n",
        "plt.errorbar(2,mean2, yerr=moe2, fmt='o', color='blue')\n",
        "plt.errorbar(0, mean1, yerr=moe1, fmt='o', color='red')\n",
        "plt.errorbar(1, mean3, yerr=moe3, fmt='o', color='black')\n",
        "plt.show()"
      ],
      "execution_count": 54,
      "outputs": [
        {
          "output_type": "display_data",
          "data": {
            "image/png": "[encoded data removed]",
            "text/plain": [
              "<Figure size 432x288 with 1 Axes>"
            ]
          },
          "metadata": {
            "tags": [],
            "needs_background": "light"
          }
        }
      ]
    },
    {
      "cell_type": "markdown",
      "metadata": {
        "id": "sXxX8RrPaoSP",
        "colab_type": "text"
      },
      "source": [
        "Conclusion- Neither the democrats nor republicans capture 95% of our data sample, which isn't surprising since the house was split at the time. When we look at the voting for South-Africa (most of my examples) and break it down by party, with a 1 being a Yes vote, and a No being a 0, we would expect to see an even voting pattern, that both parties would have a .5 for their mean value and the standard deviation would drift from there. However, we see that both parties tended to vote in favor of the bill, though democrats to a much higher percentage. "
      ]
    },
    {
      "cell_type": "code",
      "metadata": {
        "id": "V6TDtuKdem39",
        "colab_type": "code",
        "colab": {
          "base_uri": "https://localhost:8080/",
          "height": 394
        },
        "outputId": "7c6b088e-82c8-48b7-81f5-42c3540b8019"
      },
      "source": [
        "#Take a dataset that we have used in the past in class that has categorical variables. \n",
        "#Pick two of those categorical variables and run a chi-squared tests on that data\n",
        "# 1- By hand using Numpy\n",
        "# 2- In a single line using Scipy\n",
        "chiset = pd.read_csv('https://raw.githubusercontent.com/ryanleeallred/datasets/master/adult.csv', na_values=\" ?\")\n",
        "chiset.head()"
      ],
      "execution_count": 55,
      "outputs": [
        {
          "output_type": "execute_result",
          "data": {
            "text/html": [
              "<div>\n",
              "<style scoped>\n",
              "    .dataframe tbody tr th:only-of-type {\n",
              "        vertical-align: middle;\n",
              "    }\n",
              "\n",
              "    .dataframe tbody tr th {\n",
              "        vertical-align: top;\n",
              "    }\n",
              "\n",
              "    .dataframe thead th {\n",
              "        text-align: right;\n",
              "    }\n",
              "</style>\n",
              "<table border=\"1\" class=\"dataframe\">\n",
              "  <thead>\n",
              "    <tr style=\"text-align: right;\">\n",
              "      <th></th>\n",
              "      <th>age</th>\n",
              "      <th>workclass</th>\n",
              "      <th>fnlwgt</th>\n",
              "      <th>education</th>\n",
              "      <th>education-num</th>\n",
              "      <th>marital-status</th>\n",
              "      <th>occupation</th>\n",
              "      <th>relationship</th>\n",
              "      <th>race</th>\n",
              "      <th>sex</th>\n",
              "      <th>capital-gain</th>\n",
              "      <th>capital-loss</th>\n",
              "      <th>hours-per-week</th>\n",
              "      <th>country</th>\n",
              "      <th>salary</th>\n",
              "    </tr>\n",
              "  </thead>\n",
              "  <tbody>\n",
              "    <tr>\n",
              "      <th>0</th>\n",
              "      <td>39</td>\n",
              "      <td>State-gov</td>\n",
              "      <td>77516</td>\n",
              "      <td>Bachelors</td>\n",
              "      <td>13</td>\n",
              "      <td>Never-married</td>\n",
              "      <td>Adm-clerical</td>\n",
              "      <td>Not-in-family</td>\n",
              "      <td>White</td>\n",
              "      <td>Male</td>\n",
              "      <td>2174</td>\n",
              "      <td>0</td>\n",
              "      <td>40</td>\n",
              "      <td>United-States</td>\n",
              "      <td>&lt;=50K</td>\n",
              "    </tr>\n",
              "    <tr>\n",
              "      <th>1</th>\n",
              "      <td>50</td>\n",
              "      <td>Self-emp-not-inc</td>\n",
              "      <td>83311</td>\n",
              "      <td>Bachelors</td>\n",
              "      <td>13</td>\n",
              "      <td>Married-civ-spouse</td>\n",
              "      <td>Exec-managerial</td>\n",
              "      <td>Husband</td>\n",
              "      <td>White</td>\n",
              "      <td>Male</td>\n",
              "      <td>0</td>\n",
              "      <td>0</td>\n",
              "      <td>13</td>\n",
              "      <td>United-States</td>\n",
              "      <td>&lt;=50K</td>\n",
              "    </tr>\n",
              "    <tr>\n",
              "      <th>2</th>\n",
              "      <td>38</td>\n",
              "      <td>Private</td>\n",
              "      <td>215646</td>\n",
              "      <td>HS-grad</td>\n",
              "      <td>9</td>\n",
              "      <td>Divorced</td>\n",
              "      <td>Handlers-cleaners</td>\n",
              "      <td>Not-in-family</td>\n",
              "      <td>White</td>\n",
              "      <td>Male</td>\n",
              "      <td>0</td>\n",
              "      <td>0</td>\n",
              "      <td>40</td>\n",
              "      <td>United-States</td>\n",
              "      <td>&lt;=50K</td>\n",
              "    </tr>\n",
              "    <tr>\n",
              "      <th>3</th>\n",
              "      <td>53</td>\n",
              "      <td>Private</td>\n",
              "      <td>234721</td>\n",
              "      <td>11th</td>\n",
              "      <td>7</td>\n",
              "      <td>Married-civ-spouse</td>\n",
              "      <td>Handlers-cleaners</td>\n",
              "      <td>Husband</td>\n",
              "      <td>Black</td>\n",
              "      <td>Male</td>\n",
              "      <td>0</td>\n",
              "      <td>0</td>\n",
              "      <td>40</td>\n",
              "      <td>United-States</td>\n",
              "      <td>&lt;=50K</td>\n",
              "    </tr>\n",
              "    <tr>\n",
              "      <th>4</th>\n",
              "      <td>28</td>\n",
              "      <td>Private</td>\n",
              "      <td>338409</td>\n",
              "      <td>Bachelors</td>\n",
              "      <td>13</td>\n",
              "      <td>Married-civ-spouse</td>\n",
              "      <td>Prof-specialty</td>\n",
              "      <td>Wife</td>\n",
              "      <td>Black</td>\n",
              "      <td>Female</td>\n",
              "      <td>0</td>\n",
              "      <td>0</td>\n",
              "      <td>40</td>\n",
              "      <td>Cuba</td>\n",
              "      <td>&lt;=50K</td>\n",
              "    </tr>\n",
              "  </tbody>\n",
              "</table>\n",
              "</div>"
            ],
            "text/plain": [
              "   age          workclass  fnlwgt  ... hours-per-week         country  salary\n",
              "0   39          State-gov   77516  ...             40   United-States   <=50K\n",
              "1   50   Self-emp-not-inc   83311  ...             13   United-States   <=50K\n",
              "2   38            Private  215646  ...             40   United-States   <=50K\n",
              "3   53            Private  234721  ...             40   United-States   <=50K\n",
              "4   28            Private  338409  ...             40            Cuba   <=50K\n",
              "\n",
              "[5 rows x 15 columns]"
            ]
          },
          "metadata": {
            "tags": []
          },
          "execution_count": 55
        }
      ]
    },
    {
      "cell_type": "code",
      "metadata": {
        "id": "SfrFHtUxg2Ws",
        "colab_type": "code",
        "colab": {
          "base_uri": "https://localhost:8080/",
          "height": 337
        },
        "outputId": "ef815034-0b66-45e0-c3a0-3deff411ad97"
      },
      "source": [
        "print(chiset['race'].value_counts())\n",
        "chi1 = pd.crosstab(chiset['race'], chiset['education-num'])\n",
        "chi1"
      ],
      "execution_count": 59,
      "outputs": [
        {
          "output_type": "stream",
          "text": [
            " White                 27816\n",
            " Black                  3124\n",
            " Asian-Pac-Islander     1039\n",
            " Amer-Indian-Eskimo      311\n",
            " Other                   271\n",
            "Name: race, dtype: int64\n"
          ],
          "name": "stdout"
        },
        {
          "output_type": "execute_result",
          "data": {
            "text/html": [
              "<div>\n",
              "<style scoped>\n",
              "    .dataframe tbody tr th:only-of-type {\n",
              "        vertical-align: middle;\n",
              "    }\n",
              "\n",
              "    .dataframe tbody tr th {\n",
              "        vertical-align: top;\n",
              "    }\n",
              "\n",
              "    .dataframe thead th {\n",
              "        text-align: right;\n",
              "    }\n",
              "</style>\n",
              "<table border=\"1\" class=\"dataframe\">\n",
              "  <thead>\n",
              "    <tr style=\"text-align: right;\">\n",
              "      <th>education-num</th>\n",
              "      <th>1</th>\n",
              "      <th>2</th>\n",
              "      <th>3</th>\n",
              "      <th>4</th>\n",
              "      <th>5</th>\n",
              "      <th>6</th>\n",
              "      <th>7</th>\n",
              "      <th>8</th>\n",
              "      <th>9</th>\n",
              "      <th>10</th>\n",
              "      <th>11</th>\n",
              "      <th>12</th>\n",
              "      <th>13</th>\n",
              "      <th>14</th>\n",
              "      <th>15</th>\n",
              "      <th>16</th>\n",
              "    </tr>\n",
              "    <tr>\n",
              "      <th>race</th>\n",
              "      <th></th>\n",
              "      <th></th>\n",
              "      <th></th>\n",
              "      <th></th>\n",
              "      <th></th>\n",
              "      <th></th>\n",
              "      <th></th>\n",
              "      <th></th>\n",
              "      <th></th>\n",
              "      <th></th>\n",
              "      <th></th>\n",
              "      <th></th>\n",
              "      <th></th>\n",
              "      <th></th>\n",
              "      <th></th>\n",
              "      <th></th>\n",
              "    </tr>\n",
              "  </thead>\n",
              "  <tbody>\n",
              "    <tr>\n",
              "      <th>Amer-Indian-Eskimo</th>\n",
              "      <td>0</td>\n",
              "      <td>4</td>\n",
              "      <td>2</td>\n",
              "      <td>9</td>\n",
              "      <td>5</td>\n",
              "      <td>16</td>\n",
              "      <td>14</td>\n",
              "      <td>5</td>\n",
              "      <td>119</td>\n",
              "      <td>79</td>\n",
              "      <td>19</td>\n",
              "      <td>8</td>\n",
              "      <td>21</td>\n",
              "      <td>5</td>\n",
              "      <td>2</td>\n",
              "      <td>3</td>\n",
              "    </tr>\n",
              "    <tr>\n",
              "      <th>Asian-Pac-Islander</th>\n",
              "      <td>6</td>\n",
              "      <td>5</td>\n",
              "      <td>18</td>\n",
              "      <td>11</td>\n",
              "      <td>9</td>\n",
              "      <td>13</td>\n",
              "      <td>21</td>\n",
              "      <td>9</td>\n",
              "      <td>226</td>\n",
              "      <td>208</td>\n",
              "      <td>38</td>\n",
              "      <td>29</td>\n",
              "      <td>289</td>\n",
              "      <td>88</td>\n",
              "      <td>41</td>\n",
              "      <td>28</td>\n",
              "    </tr>\n",
              "    <tr>\n",
              "      <th>Black</th>\n",
              "      <td>5</td>\n",
              "      <td>16</td>\n",
              "      <td>21</td>\n",
              "      <td>56</td>\n",
              "      <td>89</td>\n",
              "      <td>133</td>\n",
              "      <td>153</td>\n",
              "      <td>70</td>\n",
              "      <td>1174</td>\n",
              "      <td>746</td>\n",
              "      <td>112</td>\n",
              "      <td>107</td>\n",
              "      <td>330</td>\n",
              "      <td>86</td>\n",
              "      <td>15</td>\n",
              "      <td>11</td>\n",
              "    </tr>\n",
              "    <tr>\n",
              "      <th>Other</th>\n",
              "      <td>2</td>\n",
              "      <td>9</td>\n",
              "      <td>13</td>\n",
              "      <td>17</td>\n",
              "      <td>8</td>\n",
              "      <td>9</td>\n",
              "      <td>10</td>\n",
              "      <td>14</td>\n",
              "      <td>78</td>\n",
              "      <td>51</td>\n",
              "      <td>6</td>\n",
              "      <td>8</td>\n",
              "      <td>33</td>\n",
              "      <td>7</td>\n",
              "      <td>4</td>\n",
              "      <td>2</td>\n",
              "    </tr>\n",
              "    <tr>\n",
              "      <th>White</th>\n",
              "      <td>38</td>\n",
              "      <td>134</td>\n",
              "      <td>279</td>\n",
              "      <td>553</td>\n",
              "      <td>403</td>\n",
              "      <td>762</td>\n",
              "      <td>977</td>\n",
              "      <td>335</td>\n",
              "      <td>8904</td>\n",
              "      <td>6207</td>\n",
              "      <td>1207</td>\n",
              "      <td>915</td>\n",
              "      <td>4682</td>\n",
              "      <td>1537</td>\n",
              "      <td>514</td>\n",
              "      <td>369</td>\n",
              "    </tr>\n",
              "  </tbody>\n",
              "</table>\n",
              "</div>"
            ],
            "text/plain": [
              "education-num        1    2    3    4    5   ...   12    13    14   15   16\n",
              "race                                         ...                           \n",
              " Amer-Indian-Eskimo   0    4    2    9    5  ...    8    21     5    2    3\n",
              " Asian-Pac-Islander   6    5   18   11    9  ...   29   289    88   41   28\n",
              " Black                5   16   21   56   89  ...  107   330    86   15   11\n",
              " Other                2    9   13   17    8  ...    8    33     7    4    2\n",
              " White               38  134  279  553  403  ...  915  4682  1537  514  369\n",
              "\n",
              "[5 rows x 16 columns]"
            ]
          },
          "metadata": {
            "tags": []
          },
          "execution_count": 59
        }
      ]
    },
    {
      "cell_type": "code",
      "metadata": {
        "id": "nXTYcCanhgoM",
        "colab_type": "code",
        "colab": {
          "base_uri": "https://localhost:8080/",
          "height": 266
        },
        "outputId": "48f7ca2d-c925-4e12-e0e6-cc58fc944b06"
      },
      "source": [
        "chi_marg = pd.crosstab(chiset['race'], chiset['education-num'], margins=True)\n",
        "chi_marg"
      ],
      "execution_count": 60,
      "outputs": [
        {
          "output_type": "execute_result",
          "data": {
            "text/html": [
              "<div>\n",
              "<style scoped>\n",
              "    .dataframe tbody tr th:only-of-type {\n",
              "        vertical-align: middle;\n",
              "    }\n",
              "\n",
              "    .dataframe tbody tr th {\n",
              "        vertical-align: top;\n",
              "    }\n",
              "\n",
              "    .dataframe thead th {\n",
              "        text-align: right;\n",
              "    }\n",
              "</style>\n",
              "<table border=\"1\" class=\"dataframe\">\n",
              "  <thead>\n",
              "    <tr style=\"text-align: right;\">\n",
              "      <th>education-num</th>\n",
              "      <th>1</th>\n",
              "      <th>2</th>\n",
              "      <th>3</th>\n",
              "      <th>4</th>\n",
              "      <th>5</th>\n",
              "      <th>6</th>\n",
              "      <th>7</th>\n",
              "      <th>8</th>\n",
              "      <th>9</th>\n",
              "      <th>10</th>\n",
              "      <th>11</th>\n",
              "      <th>12</th>\n",
              "      <th>13</th>\n",
              "      <th>14</th>\n",
              "      <th>15</th>\n",
              "      <th>16</th>\n",
              "      <th>All</th>\n",
              "    </tr>\n",
              "    <tr>\n",
              "      <th>race</th>\n",
              "      <th></th>\n",
              "      <th></th>\n",
              "      <th></th>\n",
              "      <th></th>\n",
              "      <th></th>\n",
              "      <th></th>\n",
              "      <th></th>\n",
              "      <th></th>\n",
              "      <th></th>\n",
              "      <th></th>\n",
              "      <th></th>\n",
              "      <th></th>\n",
              "      <th></th>\n",
              "      <th></th>\n",
              "      <th></th>\n",
              "      <th></th>\n",
              "      <th></th>\n",
              "    </tr>\n",
              "  </thead>\n",
              "  <tbody>\n",
              "    <tr>\n",
              "      <th>Amer-Indian-Eskimo</th>\n",
              "      <td>0</td>\n",
              "      <td>4</td>\n",
              "      <td>2</td>\n",
              "      <td>9</td>\n",
              "      <td>5</td>\n",
              "      <td>16</td>\n",
              "      <td>14</td>\n",
              "      <td>5</td>\n",
              "      <td>119</td>\n",
              "      <td>79</td>\n",
              "      <td>19</td>\n",
              "      <td>8</td>\n",
              "      <td>21</td>\n",
              "      <td>5</td>\n",
              "      <td>2</td>\n",
              "      <td>3</td>\n",
              "      <td>311</td>\n",
              "    </tr>\n",
              "    <tr>\n",
              "      <th>Asian-Pac-Islander</th>\n",
              "      <td>6</td>\n",
              "      <td>5</td>\n",
              "      <td>18</td>\n",
              "      <td>11</td>\n",
              "      <td>9</td>\n",
              "      <td>13</td>\n",
              "      <td>21</td>\n",
              "      <td>9</td>\n",
              "      <td>226</td>\n",
              "      <td>208</td>\n",
              "      <td>38</td>\n",
              "      <td>29</td>\n",
              "      <td>289</td>\n",
              "      <td>88</td>\n",
              "      <td>41</td>\n",
              "      <td>28</td>\n",
              "      <td>1039</td>\n",
              "    </tr>\n",
              "    <tr>\n",
              "      <th>Black</th>\n",
              "      <td>5</td>\n",
              "      <td>16</td>\n",
              "      <td>21</td>\n",
              "      <td>56</td>\n",
              "      <td>89</td>\n",
              "      <td>133</td>\n",
              "      <td>153</td>\n",
              "      <td>70</td>\n",
              "      <td>1174</td>\n",
              "      <td>746</td>\n",
              "      <td>112</td>\n",
              "      <td>107</td>\n",
              "      <td>330</td>\n",
              "      <td>86</td>\n",
              "      <td>15</td>\n",
              "      <td>11</td>\n",
              "      <td>3124</td>\n",
              "    </tr>\n",
              "    <tr>\n",
              "      <th>Other</th>\n",
              "      <td>2</td>\n",
              "      <td>9</td>\n",
              "      <td>13</td>\n",
              "      <td>17</td>\n",
              "      <td>8</td>\n",
              "      <td>9</td>\n",
              "      <td>10</td>\n",
              "      <td>14</td>\n",
              "      <td>78</td>\n",
              "      <td>51</td>\n",
              "      <td>6</td>\n",
              "      <td>8</td>\n",
              "      <td>33</td>\n",
              "      <td>7</td>\n",
              "      <td>4</td>\n",
              "      <td>2</td>\n",
              "      <td>271</td>\n",
              "    </tr>\n",
              "    <tr>\n",
              "      <th>White</th>\n",
              "      <td>38</td>\n",
              "      <td>134</td>\n",
              "      <td>279</td>\n",
              "      <td>553</td>\n",
              "      <td>403</td>\n",
              "      <td>762</td>\n",
              "      <td>977</td>\n",
              "      <td>335</td>\n",
              "      <td>8904</td>\n",
              "      <td>6207</td>\n",
              "      <td>1207</td>\n",
              "      <td>915</td>\n",
              "      <td>4682</td>\n",
              "      <td>1537</td>\n",
              "      <td>514</td>\n",
              "      <td>369</td>\n",
              "      <td>27816</td>\n",
              "    </tr>\n",
              "    <tr>\n",
              "      <th>All</th>\n",
              "      <td>51</td>\n",
              "      <td>168</td>\n",
              "      <td>333</td>\n",
              "      <td>646</td>\n",
              "      <td>514</td>\n",
              "      <td>933</td>\n",
              "      <td>1175</td>\n",
              "      <td>433</td>\n",
              "      <td>10501</td>\n",
              "      <td>7291</td>\n",
              "      <td>1382</td>\n",
              "      <td>1067</td>\n",
              "      <td>5355</td>\n",
              "      <td>1723</td>\n",
              "      <td>576</td>\n",
              "      <td>413</td>\n",
              "      <td>32561</td>\n",
              "    </tr>\n",
              "  </tbody>\n",
              "</table>\n",
              "</div>"
            ],
            "text/plain": [
              "education-num         1    2    3    4    5  ...    13    14   15   16    All\n",
              "race                                         ...                             \n",
              " Amer-Indian-Eskimo   0    4    2    9    5  ...    21     5    2    3    311\n",
              " Asian-Pac-Islander   6    5   18   11    9  ...   289    88   41   28   1039\n",
              " Black                5   16   21   56   89  ...   330    86   15   11   3124\n",
              " Other                2    9   13   17    8  ...    33     7    4    2    271\n",
              " White               38  134  279  553  403  ...  4682  1537  514  369  27816\n",
              "All                  51  168  333  646  514  ...  5355  1723  576  413  32561\n",
              "\n",
              "[6 rows x 17 columns]"
            ]
          },
          "metadata": {
            "tags": []
          },
          "execution_count": 60
        }
      ]
    },
    {
      "cell_type": "code",
      "metadata": {
        "id": "jj8NTIGWhu_x",
        "colab_type": "code",
        "colab": {
          "base_uri": "https://localhost:8080/",
          "height": 34
        },
        "outputId": "0a8b530d-0bc1-4e12-daec-146d18496867"
      },
      "source": [
        "rows = chi_marg.iloc[0:5, 16:].values\n",
        "rows = rows.T[0]\n",
        "rows"
      ],
      "execution_count": 67,
      "outputs": [
        {
          "output_type": "execute_result",
          "data": {
            "text/plain": [
              "array([  311,  1039,  3124,   271, 27816])"
            ]
          },
          "metadata": {
            "tags": []
          },
          "execution_count": 67
        }
      ]
    },
    {
      "cell_type": "code",
      "metadata": {
        "id": "jhvFHelTiuZb",
        "colab_type": "code",
        "colab": {
          "base_uri": "https://localhost:8080/",
          "height": 51
        },
        "outputId": "31440039-bb57-498a-8224-798638f0b308"
      },
      "source": [
        "col = chi_marg.iloc[5:, 0:16].values\n",
        "col = col[0]\n",
        "col"
      ],
      "execution_count": 69,
      "outputs": [
        {
          "output_type": "execute_result",
          "data": {
            "text/plain": [
              "array([   51,   168,   333,   646,   514,   933,  1175,   433, 10501,\n",
              "        7291,  1382,  1067,  5355,  1723,   576,   413])"
            ]
          },
          "metadata": {
            "tags": []
          },
          "execution_count": 69
        }
      ]
    },
    {
      "cell_type": "code",
      "metadata": {
        "id": "kV8pgPg6jugC",
        "colab_type": "code",
        "colab": {
          "base_uri": "https://localhost:8080/",
          "height": 34
        },
        "outputId": "73f3af75-2368-435c-e5f2-e7792a7fe7d4"
      },
      "source": [
        "total = chiset.shape[0]\n",
        "total"
      ],
      "execution_count": 75,
      "outputs": [
        {
          "output_type": "execute_result",
          "data": {
            "text/plain": [
              "32561"
            ]
          },
          "metadata": {
            "tags": []
          },
          "execution_count": 75
        }
      ]
    },
    {
      "cell_type": "code",
      "metadata": {
        "id": "T9_aZKEEkXf6",
        "colab_type": "code",
        "colab": {
          "base_uri": "https://localhost:8080/",
          "height": 374
        },
        "outputId": "0c180ff0-48e6-4287-ca3c-f7f1207b70c3"
      },
      "source": [
        "expect = []\n",
        "for i in range(len(rows)):\n",
        "  expect_row = []\n",
        "  for column in col:\n",
        "    expect_val = column*rows[i]/total\n",
        "    expect_row.append(expect_val)\n",
        "  expect.append(expect_row)\n",
        "expect = np.array(expect)\n",
        "print(expect.shape)\n",
        "print(expect)\n"
      ],
      "execution_count": 78,
      "outputs": [
        {
          "output_type": "stream",
          "text": [
            "(5, 16)\n",
            "[[4.87116489e-01 1.60461902e+00 3.18058413e+00 6.17014219e+00\n",
            "  4.90937011e+00 8.91136636e+00 1.12227819e+01 4.13571451e+00\n",
            "  1.00298240e+02 6.96385553e+01 1.31999017e+01 1.01912411e+01\n",
            "  5.11472314e+01 1.64568963e+01 5.50155094e+00 3.94468843e+00]\n",
            " [1.62737631e+00 5.36076902e+00 1.06258100e+01 2.06134332e+01\n",
            "  1.64014004e+01 2.97714137e+01 3.74934738e+01 1.38167440e+01\n",
            "  3.35079973e+02 2.32650994e+02 4.40987070e+01 3.40472651e+01\n",
            "  1.70874512e+02 5.49797918e+01 1.83797795e+01 1.31785572e+01]\n",
            " [4.89309296e+00 1.61184239e+01 3.19490188e+01 6.19791775e+01\n",
            "  4.93147016e+01 8.95148183e+01 1.12733024e+02 4.15433187e+01\n",
            "  1.00749744e+03 6.99520408e+02 1.32593225e+02 1.02371180e+02\n",
            "  5.13774761e+02 1.65309788e+02 5.52631676e+01 3.96244587e+01]\n",
            " [4.24464851e-01 1.39823715e+00 2.77150579e+00 5.37655477e+00\n",
            "  4.27793987e+00 7.76520991e+00 9.77933724e+00 3.60378981e+00\n",
            "  8.73981450e+01 6.06818280e+01 1.15021652e+01 8.88047050e+00\n",
            "  4.45688093e+01 1.43402537e+01 4.79395596e+00 3.43733301e+00]\n",
            " [4.35679494e+01 1.43517951e+02 2.84473081e+02 5.51860692e+02\n",
            "  4.39096588e+02 7.97037192e+02 1.00377138e+03 3.69900433e+02\n",
            "  8.97072621e+03 6.22850822e+03 1.18060600e+03 9.11509843e+02\n",
            "  4.57463469e+03 1.47191327e+03 4.92061546e+02 3.52814963e+02]]\n"
          ],
          "name": "stdout"
        }
      ]
    },
    {
      "cell_type": "code",
      "metadata": {
        "id": "felf6wrKlKh5",
        "colab_type": "code",
        "colab": {
          "base_uri": "https://localhost:8080/",
          "height": 34
        },
        "outputId": "d8f4ef2b-9349-4bfe-be96-ef624fb0ba5c"
      },
      "source": [
        "chi_sqr = ((chi1 - expect)**2 / expect).sum().sum()\n",
        "chi_sqr"
      ],
      "execution_count": 82,
      "outputs": [
        {
          "output_type": "execute_result",
          "data": {
            "text/plain": [
              "730.6712962254585"
            ]
          },
          "metadata": {
            "tags": []
          },
          "execution_count": 82
        }
      ]
    },
    {
      "cell_type": "code",
      "metadata": {
        "id": "4qtuTfdklnZn",
        "colab_type": "code",
        "colab": {
          "base_uri": "https://localhost:8080/",
          "height": 476
        },
        "outputId": "a3c7c02f-d583-4b06-edf6-0fb6bac36f90"
      },
      "source": [
        "chi2, p_val, dof, expected = stats.chi2_contingency(chi1)\n",
        "print(\" chi2 statistics\", chi2)\n",
        "print(\"\\n p-value\", p_val)\n",
        "print(\"\\n degrees of freedom\", dof)\n",
        "print(\"\\n expected frequencies table: \\n\", expected)"
      ],
      "execution_count": 84,
      "outputs": [
        {
          "output_type": "stream",
          "text": [
            " chi2 statistics 730.6712962254583\n",
            "\n",
            " p-value 5.547319569858748e-116\n",
            "\n",
            " degrees of freedom 60\n",
            "\n",
            " expected frequencies table: \n",
            " [[4.87116489e-01 1.60461902e+00 3.18058413e+00 6.17014219e+00\n",
            "  4.90937011e+00 8.91136636e+00 1.12227819e+01 4.13571451e+00\n",
            "  1.00298240e+02 6.96385553e+01 1.31999017e+01 1.01912411e+01\n",
            "  5.11472314e+01 1.64568963e+01 5.50155094e+00 3.94468843e+00]\n",
            " [1.62737631e+00 5.36076902e+00 1.06258100e+01 2.06134332e+01\n",
            "  1.64014004e+01 2.97714137e+01 3.74934738e+01 1.38167440e+01\n",
            "  3.35079973e+02 2.32650994e+02 4.40987070e+01 3.40472651e+01\n",
            "  1.70874512e+02 5.49797918e+01 1.83797795e+01 1.31785572e+01]\n",
            " [4.89309296e+00 1.61184239e+01 3.19490188e+01 6.19791775e+01\n",
            "  4.93147016e+01 8.95148183e+01 1.12733024e+02 4.15433187e+01\n",
            "  1.00749744e+03 6.99520408e+02 1.32593225e+02 1.02371180e+02\n",
            "  5.13774761e+02 1.65309788e+02 5.52631676e+01 3.96244587e+01]\n",
            " [4.24464851e-01 1.39823715e+00 2.77150579e+00 5.37655477e+00\n",
            "  4.27793987e+00 7.76520991e+00 9.77933724e+00 3.60378981e+00\n",
            "  8.73981450e+01 6.06818280e+01 1.15021652e+01 8.88047050e+00\n",
            "  4.45688093e+01 1.43402537e+01 4.79395596e+00 3.43733301e+00]\n",
            " [4.35679494e+01 1.43517951e+02 2.84473081e+02 5.51860692e+02\n",
            "  4.39096588e+02 7.97037192e+02 1.00377138e+03 3.69900433e+02\n",
            "  8.97072621e+03 6.22850822e+03 1.18060600e+03 9.11509843e+02\n",
            "  4.57463469e+03 1.47191327e+03 4.92061546e+02 3.52814963e+02]]\n"
          ],
          "name": "stdout"
        }
      ]
    },
    {
      "cell_type": "markdown",
      "metadata": {
        "id": "T9Hb4Vc3lmAU",
        "colab_type": "text"
      },
      "source": [
        "Provided I did this correctly, it seems that education and race are are very closely linked within this population. "
      ]
    },
    {
      "cell_type": "markdown",
      "metadata": {
        "id": "4ohsJhQUmEuS",
        "colab_type": "text"
      },
      "source": [
        "## Stretch goals:\n",
        "\n",
        "1. Write a summary of your findings, mixing prose and math/code/results. *Note* - yes, this is by definition a political topic. It is challenging but important to keep your writing voice *neutral* and stick to the facts of the data. Data science often involves considering controversial issues, so it's important to be sensitive about them (especially if you want to publish).\n",
        "2. Apply the techniques you learned today to your project data or other data of your choice, and write/discuss your findings here.\n",
        "3. Refactor your code so it is elegant, readable, and can be easily run for all issues."
      ]
    },
    {
      "cell_type": "markdown",
      "metadata": {
        "id": "nyJ3ySr7R2k9",
        "colab_type": "text"
      },
      "source": [
        "## Resources\n",
        "\n",
        "- [Interactive visualize the Chi-Squared test](https://homepage.divms.uiowa.edu/~mbognar/applets/chisq.html)\n",
        "- [Calculation of Chi-Squared test statistic](https://en.wikipedia.org/wiki/Pearson%27s_chi-squared_test)\n",
        "- [Visualization of a confidence interval generated by R code](https://commons.wikimedia.org/wiki/File:Confidence-interval.svg)\n",
        "- [Expected value of a squared standard normal](https://math.stackexchange.com/questions/264061/expected-value-calculation-for-squared-normal-distribution) (it's 1 - which is why the expected value of a Chi-Squared with $n$ degrees of freedom is $n$, as it's the sum of $n$ squared standard normals)"
      ]
    }
  ]
}