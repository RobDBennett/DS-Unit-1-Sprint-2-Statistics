{
  "nbformat": 4,
  "nbformat_minor": 0,
  "metadata": {
    "colab": {
      "name": "LS_DS_123_Introduction_to_Bayesian_Inference_Assignment.ipynb",
      "provenance": [],
      "include_colab_link": true
    },
    "kernelspec": {
      "name": "python3",
      "display_name": "Python 3"
    }
  },
  "cells": [
    {
      "cell_type": "markdown",
      "metadata": {
        "id": "view-in-github",
        "colab_type": "text"
      },
      "source": [
        "<a href=\"https://colab.research.google.com/github/RobDBennett/DS-Unit-1-Sprint-2-Statistics/blob/master/module3/LS_DS_123_Introduction_to_Bayesian_Inference_Assignment.ipynb\" target=\"_parent\"><img src=\"https://colab.research.google.com/assets/colab-badge.svg\" alt=\"Open In Colab\"/></a>"
      ]
    },
    {
      "cell_type": "markdown",
      "metadata": {
        "id": "H7OLbevlbd_Z",
        "colab_type": "text"
      },
      "source": [
        "# Lambda School Data Science Module 123\n",
        "\n",
        "## Introduction to Bayesian Inference\n",
        "\n",
        "\n"
      ]
    },
    {
      "cell_type": "markdown",
      "metadata": {
        "id": "P-DzzRk5bf0z",
        "colab_type": "text"
      },
      "source": [
        "## Assignment - Code it up!\n",
        "\n",
        "We used pure math to apply Bayes Theorem to drug tests. Now write Python code to reproduce the results! This is purposefully open ended - you'll have to think about how you should represent probabilities and events. You can and should look things up.\n",
        "\n",
        "Specific goals/targets:\n",
        "\n",
        "### 1) Write a function \n",
        "\n",
        "`def prob_drunk_given_positive(prob_drunk_prior, false_positive_rate, true_positive_rate):` \n",
        "\n",
        "You should only truly need these two values in order to apply Bayes Theorem. In this example, imagine that individuals are taking a breathalyzer test with an 8% false positive rate, a 100% true positive rate, and that our prior belief about drunk driving in the population is 1/1000. \n",
        " - What is the probability that a person is drunk after one positive breathalyzer test?\n",
        " - What is the probability that a person is drunk after two positive breathalyzer tests?\n",
        " - How many positive breathalyzer tests are needed in order to have a probability that's greater than 95% that a person is drunk beyond the legal limit?\n",
        "\n",
        "### 2) Explore `scipy.stats.bayes_mvs`  \n",
        "Read its documentation, and experiment with it on data you've tested in other ways earlier this week.\n",
        " - Create a visualization comparing the results of a Bayesian approach to a traditional/frequentist approach. (with a large sample size they should look close to identical, however, take this opportunity to practice visualizing condfidence intervals in general. The following are some potential ways that you could visualize confidence intervals on your graph:\n",
        "  - [Matplotlib Error Bars](https://matplotlib.org/3.1.1/api/_as_gen/matplotlib.pyplot.errorbar.html)\n",
        "  - [Seaborn barplot with error bars](https://seaborn.pydata.org/generated/seaborn.barplot.html)\n",
        "  - [Vertical ines to show bounds of confidence interval](https://www.simplypsychology.org/confidence-interval.jpg)\n",
        "  - [Confidence Intervals on Box Plots](https://matplotlib.org/3.1.1/api/_as_gen/matplotlib.axes.Axes.boxplot.html)\n",
        "\n",
        "### 3) In your own words, summarize the difference between Bayesian and Frequentist statistics\n",
        "\n",
        "If you're unsure where to start, check out [this blog post of Bayes theorem with Python](https://dataconomy.com/2015/02/introduction-to-bayes-theorem-with-python/).\n",
        "\n"
      ]
    },
    {
      "cell_type": "code",
      "metadata": {
        "id": "EUcpnklXilNj",
        "colab_type": "code",
        "colab": {}
      },
      "source": [
        "import pandas as pd\n",
        "import numpy as np\n",
        "from scipy import stats\n",
        "import matplotlib.pyplot as plt"
      ],
      "execution_count": 0,
      "outputs": []
    },
    {
      "cell_type": "code",
      "metadata": {
        "id": "xpVhZyUnbf7o",
        "colab_type": "code",
        "colab": {}
      },
      "source": [
        "# Probability of being drunk!\n",
        "\n",
        "def prob_drunk_given_positive(prob_drunk_prior):\n",
        "  p_drunk = prob_drunk_prior\n",
        "  p_pos_drunk = 1\n",
        "  p_pos_not_drunk= .08\n",
        "  p_not_drunk = 1 - p_drunk\n",
        "\n",
        "  numerator = p_pos_drunk * p_drunk\n",
        "  denominator = (numerator) + (p_pos_not_drunk*p_not_drunk)\n",
        "  posterior_p = numerator / denominator\n",
        "  return posterior_p\n"
      ],
      "execution_count": 0,
      "outputs": []
    },
    {
      "cell_type": "code",
      "metadata": {
        "id": "tsxGTMvneyIi",
        "colab_type": "code",
        "colab": {
          "base_uri": "https://localhost:8080/",
          "height": 34
        },
        "outputId": "686971df-397c-446a-9b53-d29158c2ce26"
      },
      "source": [
        "prob_drunk_given_positive(1/1000)"
      ],
      "execution_count": 104,
      "outputs": [
        {
          "output_type": "execute_result",
          "data": {
            "text/plain": [
              "0.012357884330202669"
            ]
          },
          "metadata": {
            "tags": []
          },
          "execution_count": 104
        }
      ]
    },
    {
      "cell_type": "code",
      "metadata": {
        "id": "cwKjV-hHhqn4",
        "colab_type": "code",
        "colab": {
          "base_uri": "https://localhost:8080/",
          "height": 34
        },
        "outputId": "3a5dbf04-a382-45d3-acd5-07ef5e5c7ea7"
      },
      "source": [
        "prob_drunk_given_positive(0.012357884330202669)"
      ],
      "execution_count": 106,
      "outputs": [
        {
          "output_type": "execute_result",
          "data": {
            "text/plain": [
              "0.13525210993291495"
            ]
          },
          "metadata": {
            "tags": []
          },
          "execution_count": 106
        }
      ]
    },
    {
      "cell_type": "code",
      "metadata": {
        "id": "lh_lOa1cmrKG",
        "colab_type": "code",
        "colab": {
          "base_uri": "https://localhost:8080/",
          "height": 85
        },
        "outputId": "cea3f4f7-fdbc-4d99-dfb9-7a9c21f80905"
      },
      "source": [
        "y = 0\n",
        "x = .001\n",
        "while x < .95:\n",
        "  x = prob_drunk_given_positive(x)\n",
        "  y = y + 1\n",
        "  print(y, x)\n",
        "      "
      ],
      "execution_count": 117,
      "outputs": [
        {
          "output_type": "stream",
          "text": [
            "1 0.012357884330202669\n",
            "2 0.13525210993291495\n",
            "3 0.6615996951348605\n",
            "4 0.9606895076105054\n"
          ],
          "name": "stdout"
        }
      ]
    },
    {
      "cell_type": "code",
      "metadata": {
        "id": "FiGfvhM-7EwH",
        "colab_type": "code",
        "colab": {
          "base_uri": "https://localhost:8080/",
          "height": 34
        },
        "outputId": "ae5e607f-903e-473c-b463-5f4ae81e5f98"
      },
      "source": [
        "# 2 visualization differences between Bayes and Frequency.\n",
        "coinflips = np.random.binomial(1,.5,10000)\n",
        "coinflips"
      ],
      "execution_count": 126,
      "outputs": [
        {
          "output_type": "execute_result",
          "data": {
            "text/plain": [
              "array([1, 0, 0, ..., 0, 0, 1])"
            ]
          },
          "metadata": {
            "tags": []
          },
          "execution_count": 126
        }
      ]
    },
    {
      "cell_type": "code",
      "metadata": {
        "id": "Fu5B6nXX7fGB",
        "colab_type": "code",
        "colab": {}
      },
      "source": [
        "# frequency\n",
        "def con_int(data):\n",
        "  confidence=.95\n",
        "  data = np.array(data)\n",
        "  mean = np.mean(data)\n",
        "  n = len(data)\n",
        "  s = np.std(data, ddof=1)\n",
        "  std_err = s / np.sqrt(n)\n",
        "  t = stats.t.ppf((1+confidence) / 2.0, n-1)\n",
        "  moe = t*std_err\n",
        "  lower_bound = mean - moe\n",
        "  upper_bound = mean + moe\n",
        "  return (lower_bound, mean, upper_bound) "
      ],
      "execution_count": 0,
      "outputs": []
    },
    {
      "cell_type": "code",
      "metadata": {
        "id": "4VDd9xzP8WGL",
        "colab_type": "code",
        "colab": {
          "base_uri": "https://localhost:8080/",
          "height": 34
        },
        "outputId": "c1c9262a-5c24-44ed-be9b-49fc852b6042"
      },
      "source": [
        "freq = con_int(coinflips)\n",
        "freq"
      ],
      "execution_count": 129,
      "outputs": [
        {
          "output_type": "execute_result",
          "data": {
            "text/plain": [
              "(0.4901985035948205, 0.5, 0.5098014964051796)"
            ]
          },
          "metadata": {
            "tags": []
          },
          "execution_count": 129
        }
      ]
    },
    {
      "cell_type": "code",
      "metadata": {
        "id": "6LAhyXYX8jd-",
        "colab_type": "code",
        "colab": {
          "base_uri": "https://localhost:8080/",
          "height": 34
        },
        "outputId": "0c3eb875-d615-4280-a9ae-17c70e849952"
      },
      "source": [
        "bayes, _, _ = stats.bayes_mvs(coinflips, alpha=.95)\n",
        "bayes"
      ],
      "execution_count": 134,
      "outputs": [
        {
          "output_type": "execute_result",
          "data": {
            "text/plain": [
              "Mean(statistic=0.5, minmax=(0.4902001800772997, 0.5097998199227003))"
            ]
          },
          "metadata": {
            "tags": []
          },
          "execution_count": 134
        }
      ]
    },
    {
      "cell_type": "code",
      "metadata": {
        "id": "QtLMa9qz9UNH",
        "colab_type": "code",
        "colab": {
          "base_uri": "https://localhost:8080/",
          "height": 282
        },
        "outputId": "95f1a2c1-a074-43da-cb59-2ad143ed194a"
      },
      "source": [
        "print(\"Frequency v Bayes visualization on 10,000 random coin flips\")\n",
        "lower1, mean1, upper1 = con_int(coinflips)\n",
        "lower2 = .4902001800772997\n",
        "mean2 = .5\n",
        "upper2 = .5097998199227003\n",
        "df = pd.DataFrame({'coinflips':coinflips})\n",
        "df['coinflips'].plot.density()\n",
        "plt.axvline(x=lower1, color='purple')\n",
        "plt.axvline(x=mean1, color= 'orange')\n",
        "plt.axvline(x=upper1, color='purple')\n",
        "\n",
        "plt.axvline(x=lower2, color='black')\n",
        "plt.axvline(x=mean2, color='red')\n",
        "plt.axvline(x=upper2, color='black')\n",
        "plt.show()"
      ],
      "execution_count": 145,
      "outputs": [
        {
          "output_type": "stream",
          "text": [
            "Frequency v Bayes visualization on 10,000 random coin flips\n"
          ],
          "name": "stdout"
        },
        {
          "output_type": "display_data",
          "data": {
            "image/png": "[encoded data removed]",
            "text/plain": [
              "<Figure size 432x288 with 1 Axes>"
            ]
          },
          "metadata": {
            "tags": [],
            "needs_background": "light"
          }
        }
      ]
    },
    {
      "cell_type": "code",
      "metadata": {
        "id": "wqYnYUHbAuwY",
        "colab_type": "code",
        "colab": {}
      },
      "source": [
        "small = np.random.binomial(1,.5,100)"
      ],
      "execution_count": 0,
      "outputs": []
    },
    {
      "cell_type": "code",
      "metadata": {
        "id": "WF57kvTkA72u",
        "colab_type": "code",
        "colab": {
          "base_uri": "https://localhost:8080/",
          "height": 34
        },
        "outputId": "0953cd9e-5865-4014-fac3-39296104f67e"
      },
      "source": [
        "bayes1, _, _ = stats.bayes_mvs(small, alpha=.95)\n",
        "bayes1"
      ],
      "execution_count": 147,
      "outputs": [
        {
          "output_type": "execute_result",
          "data": {
            "text/plain": [
              "Mean(statistic=0.51, minmax=(0.41030929062808247, 0.6096907093719175))"
            ]
          },
          "metadata": {
            "tags": []
          },
          "execution_count": 147
        }
      ]
    },
    {
      "cell_type": "code",
      "metadata": {
        "id": "Ay7bI_FuANmZ",
        "colab_type": "code",
        "colab": {
          "base_uri": "https://localhost:8080/",
          "height": 282
        },
        "outputId": "5334a9a6-bcbb-454d-838e-c965768589a0"
      },
      "source": [
        "print(\"Frequency v Bayes visualization on 100 random coin flips\")\n",
        "lower1, mean1, upper1 = con_int(small)\n",
        "lower2 = .41030929062808247\n",
        "mean2 = .51\n",
        "upper2 = .6096907093719175\n",
        "df1 = pd.DataFrame({'small':small})\n",
        "df1['small'].plot.density()\n",
        "plt.axvline(x=lower1, color='green')\n",
        "plt.axvline(x=mean1, color= 'yellow')\n",
        "plt.axvline(x=upper1, color='green')\n",
        "\n",
        "plt.axvline(x=lower2, color='black')\n",
        "plt.axvline(x=mean2, color='red')\n",
        "plt.axvline(x=upper2, color='black')\n",
        "plt.show()"
      ],
      "execution_count": 149,
      "outputs": [
        {
          "output_type": "stream",
          "text": [
            "Frequency v Bayes visualization on 100 random coin flips\n"
          ],
          "name": "stdout"
        },
        {
          "output_type": "display_data",
          "data": {
            "image/png": "[encoded data removed]",
            "text/plain": [
              "<Figure size 432x288 with 1 Axes>"
            ]
          },
          "metadata": {
            "tags": [],
            "needs_background": "light"
          }
        }
      ]
    },
    {
      "cell_type": "markdown",
      "metadata": {
        "id": "88wwdY4X0TVp",
        "colab_type": "text"
      },
      "source": [
        "# 3 The difference between Bayes and Frequency Stats:\n",
        "\n",
        "These seem to be very similar, if we're being honest. They require the same amount of data to be effect. However, the real difference is that frequency stats seem to put the emphasis on the left side of the populations and Bayes focuses on the right populations. \n",
        "I am certain that the differences will become more apparent the more I use these, but with a large set of data, they're very close. I repeated the above visualization with 10,000 coinflips and 100 to see if there was a huge difference. \n"
      ]
    },
    {
      "cell_type": "markdown",
      "metadata": {
        "id": "uWgWjp3PQ3Sq",
        "colab_type": "text"
      },
      "source": [
        "## Resources"
      ]
    },
    {
      "cell_type": "markdown",
      "metadata": {
        "id": "QRgHqmYIQ9qn",
        "colab_type": "text"
      },
      "source": [
        "- [Worked example of Bayes rule calculation](https://en.wikipedia.org/wiki/Bayes'_theorem#Examples) (helpful as it fully breaks out the denominator)\n",
        "- [Source code for mvsdist in scipy](https://github.com/scipy/scipy/blob/90534919e139d2a81c24bf08341734ff41a3db12/scipy/stats/morestats.py#L139)"
      ]
    },
    {
      "cell_type": "markdown",
      "metadata": {
        "id": "GP7Jv1XvwtkX",
        "colab_type": "text"
      },
      "source": [
        "## Stretch Goals:\n",
        "\n",
        "- Go back and study the content from Modules 1 & 2 to make sure that you're really comfortable with them.\n",
        "- Apply a Bayesian technique to a problem you previously worked (in an assignment or project work) on from a frequentist (standard) perspective\n",
        "- Check out [PyMC3](https://docs.pymc.io/) (note this goes beyond hypothesis tests into modeling) - read the guides and work through some examples\n",
        "- Take PyMC3 further - see if you can build something with it!"
      ]
    },
    {
      "cell_type": "code",
      "metadata": {
        "id": "iDi0eFr1x-v_",
        "colab_type": "code",
        "colab": {}
      },
      "source": [
        ""
      ],
      "execution_count": 0,
      "outputs": []
    }
  ]
}